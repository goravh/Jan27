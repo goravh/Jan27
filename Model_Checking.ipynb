{
 "cells": [
  {
   "cell_type": "code",
   "execution_count": 1,
   "id": "49b235b3",
   "metadata": {},
   "outputs": [],
   "source": [
    "import numpy as np\n",
    "import pickle\n",
    "import pandas as pd"
   ]
  },
  {
   "cell_type": "code",
   "execution_count": 23,
   "id": "cf91e034",
   "metadata": {},
   "outputs": [],
   "source": [
    "bedrooms= 3\n",
    "bathrooms = 1.5\n",
    "sqft_living =1340\n",
    "sqft_lot=7912\n",
    "floors=1.5\n",
    "waterfront=0\n",
    "view=0\n",
    "condition=3\n",
    "sqft_above=1340\n",
    "sqft_basement=0\n",
    "yr_built=1955\n",
    "yr_renovated=2005"
   ]
  },
  {
   "cell_type": "code",
   "execution_count": 24,
   "id": "c991cd89",
   "metadata": {},
   "outputs": [],
   "source": [
    "x = np.array([[bedrooms,bathrooms,sqft_living,sqft_lot,floors,waterfront,view,condition,sqft_above,sqft_basement,yr_built,yr_renovated]])"
   ]
  },
  {
   "cell_type": "code",
   "execution_count": 26,
   "id": "347e0d92",
   "metadata": {},
   "outputs": [],
   "source": [
    "# go to model.pkl file check mark \n",
    "model = pickle.load(open('model.pkl','rb'))"
   ]
  },
  {
   "cell_type": "code",
   "execution_count": 27,
   "id": "ba59b700",
   "metadata": {
    "scrolled": true
   },
   "outputs": [],
   "source": [
    "y_prediction = model.predict(x)"
   ]
  },
  {
   "cell_type": "code",
   "execution_count": 28,
   "id": "94369fee",
   "metadata": {},
   "outputs": [
    {
     "data": {
      "text/plain": [
       "array([[361375.27500666]])"
      ]
     },
     "execution_count": 28,
     "metadata": {},
     "output_type": "execute_result"
    }
   ],
   "source": [
    "y_prediction"
   ]
  },
  {
   "cell_type": "code",
   "execution_count": null,
   "id": "994a0347",
   "metadata": {},
   "outputs": [],
   "source": []
  }
 ],
 "metadata": {
  "kernelspec": {
   "display_name": "Python 3 (ipykernel)",
   "language": "python",
   "name": "python3"
  },
  "language_info": {
   "codemirror_mode": {
    "name": "ipython",
    "version": 3
   },
   "file_extension": ".py",
   "mimetype": "text/x-python",
   "name": "python",
   "nbconvert_exporter": "python",
   "pygments_lexer": "ipython3",
   "version": "3.9.7"
  }
 },
 "nbformat": 4,
 "nbformat_minor": 5
}
